{
 "cells": [
  {
   "cell_type": "code",
   "execution_count": null,
   "id": "dd24e6d9-0a30-4201-a5bc-69d82c1c6665",
   "metadata": {
    "tags": []
   },
   "outputs": [],
   "source": [
    "!ilab train --help"
   ]
  },
  {
   "cell_type": "code",
   "execution_count": null,
   "id": "d22a0186-14cc-4bdc-b6cb-f250d2fa5db0",
   "metadata": {},
   "outputs": [],
   "source": [
    "!ilab train --model-name instructlab/granite-7b-lab --iters 50 --device cuda"
   ]
  },
  {
   "cell_type": "code",
   "execution_count": null,
   "id": "47ac395c-d5b3-4c28-8289-f92d2fafd035",
   "metadata": {
    "tags": []
   },
   "outputs": [],
   "source": [
    "print(\"done\")"
   ]
  },
  {
   "cell_type": "code",
   "execution_count": null,
   "id": "49af8417-7dbf-48ab-8250-851ad33bf998",
   "metadata": {},
   "outputs": [],
   "source": []
  }
 ],
 "metadata": {
  "kernelspec": {
   "display_name": "Python 3.9",
   "language": "python",
   "name": "python3"
  },
  "language_info": {
   "codemirror_mode": {
    "name": "ipython",
    "version": 3
   },
   "file_extension": ".py",
   "mimetype": "text/x-python",
   "name": "python",
   "nbconvert_exporter": "python",
   "pygments_lexer": "ipython3",
   "version": "3.9.18"
  }
 },
 "nbformat": 4,
 "nbformat_minor": 5
}
