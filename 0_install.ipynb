{
 "cells": [
  {
   "cell_type": "markdown",
   "id": "210fa185-edb1-4efe-a424-3b22c44f3fbd",
   "metadata": {},
   "source": [
    "# Getting started"
   ]
  },
  {
   "cell_type": "markdown",
   "id": "c94170be-1cc6-4b64-834e-0cfa2718390d",
   "metadata": {},
   "source": [
    "## Install ilab command line interface\n",
    "\n",
    "We created a CLI tool called ilab that implements a local LLM developer experience and workflow. The ilab CLI is written in Python and works on the following architectures:\n",
    "\n",
    "- Apple M1/M2/M3 Mac\n",
    "- Linux systems\n",
    "\n",
    "We anticipate support for more operating systems in the future. The system requirements to use the command line tool are as follows:\n",
    "\n",
    "- C++ compiler\n",
    "- Python 3.9+\n",
    "- Approximately 60GB disk space (entire process) - Disk space requirements are dependent on several factors. Keep in mind that we will be generating data to feed to the model while also having the model locally on our system. For example, the model we are working with during this workshop is roughly 5gb in size.\n"
   ]
  },
  {
   "cell_type": "markdown",
   "id": "920596ec-7e12-481f-9ff1-24a321e25d54",
   "metadata": {},
   "source": [
    "## Installing ilab"
   ]
  },
  {
   "cell_type": "code",
   "id": "6bff3a17-b74f-4df4-8543-a3dc63c86ad1",
   "metadata": {
    "tags": []
   },
   "source": [
    "!pip install git+https://github.com/instructlab/instructlab.git@stable"
   ],
   "outputs": [],
   "execution_count": null
  },
  {
   "cell_type": "markdown",
   "id": "f52a7568-768f-445a-92c1-72bf7cd552ed",
   "metadata": {},
   "source": [
    "From your venv environment, verify ilab is installed correctly by running the ilab command."
   ]
  },
  {
   "cell_type": "code",
   "id": "8da5eb5e-be89-4cca-a207-38553f9e97b9",
   "metadata": {
    "tags": []
   },
   "source": [
    "!ilab"
   ],
   "outputs": [],
   "execution_count": null
  },
  {
   "cell_type": "markdown",
   "id": "9a0322e9-a4f2-4d74-aca7-f515d2cecb5a",
   "metadata": {
    "tags": []
   },
   "source": [
    "## Initialize ilab\n",
    "\n",
    "Now that we know that the command-line interface (ilab) is working correctly, the next thing we need to do is initialize the local environment so that we can begin working with the model. This is accomplished by issuing a simple init command."
   ]
  },
  {
   "cell_type": "code",
   "id": "25229d66-d765-4fb6-bd93-588031999539",
   "metadata": {
    "tags": []
   },
   "source": [
    "!ilab init --help"
   ],
   "outputs": [],
   "execution_count": null
  },
  {
   "cell_type": "markdown",
   "id": "12e30a99-d615-45f6-962c-a4c115734d4a",
   "metadata": {},
   "source": [
    "Step 1: Initialize ilab by running the following command:\n",
    "```\n",
    "!ilab init --non-interactive \n",
    "```"
   ]
  },
  {
   "cell_type": "code",
   "id": "75ac1c59-9320-45df-bf4a-7bbbf0226de4",
   "metadata": {
    "tags": []
   },
   "source": [
    "!ilab init --non-interactive --model-path ./models/granite-7b-lab-Q4_K_M.gguf"
   ],
   "outputs": [],
   "execution_count": null
  },
  {
   "cell_type": "code",
   "id": "336704d5-0f6a-433d-9e42-61ba67ef46f2",
   "metadata": {
    "tags": []
   },
   "source": [
    "!cat config.yaml"
   ],
   "outputs": [],
   "execution_count": null
  },
  {
   "cell_type": "markdown",
   "id": "6a1c15c4-2701-4466-bb1d-efc4a85fd2fb",
   "metadata": {},
   "source": [
    "## Download the model\n",
    "\n",
    "Step 1: Run the `ilab download` command.\n",
    "\n",
    "The ilab download command downloads a model from the HuggingFace instructlab organization we will use."
   ]
  },
  {
   "cell_type": "code",
   "id": "0b74c393-9854-4a3f-9af4-b285373b09b4",
   "metadata": {},
   "source": [
    "!ilab download --help"
   ],
   "outputs": [],
   "execution_count": null
  },
  {
   "cell_type": "code",
   "id": "ab0da193-a778-4ee5-b32f-180baa737033",
   "metadata": {
    "tags": []
   },
   "source": [
    "!ilab download  --repository instructlab/granite-7b-lab-GGUF --filename granite-7b-lab-Q4_K_M.gguf"
   ],
   "outputs": [],
   "execution_count": null
  }
 ],
 "metadata": {
  "kernelspec": {
   "display_name": "Python 3.9",
   "language": "python",
   "name": "python3"
  },
  "language_info": {
   "codemirror_mode": {
    "name": "ipython",
    "version": 3
   },
   "file_extension": ".py",
   "mimetype": "text/x-python",
   "name": "python",
   "nbconvert_exporter": "python",
   "pygments_lexer": "ipython3",
   "version": "3.9.18"
  }
 },
 "nbformat": 4,
 "nbformat_minor": 5
}
