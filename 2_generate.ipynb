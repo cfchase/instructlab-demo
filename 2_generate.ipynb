{
 "cells": [
  {
   "cell_type": "code",
   "execution_count": null,
   "id": "ee012c67-7605-4d1f-89ca-3ecedd614814",
   "metadata": {
    "tags": []
   },
   "outputs": [],
   "source": [
    "!mkdir -p ./taxonomy/compositional_skills/extraction/inference/quantitative/asciidoc/tables\n",
    "!cp qna.yaml ./taxonomy/compositional_skills/extraction/inference/quantitative/asciidoc/tables/qna.yaml \n",
    "!head ~/instructlab/taxonomy/compositional_skills/extraction/inference/quantitative/asciidoc/tables/qna.yaml"
   ]
  },
  {
   "cell_type": "code",
   "execution_count": null,
   "id": "5c07281a-85c8-47cf-a5c3-290022a1989b",
   "metadata": {
    "tags": []
   },
   "outputs": [],
   "source": [
    "!ilab diff"
   ]
  },
  {
   "cell_type": "code",
   "execution_count": null,
   "id": "fb8df577-2c28-4000-ac9e-ab4aeb4c2963",
   "metadata": {},
   "outputs": [],
   "source": [
    "!ilab generate --help"
   ]
  },
  {
   "cell_type": "code",
   "execution_count": null,
   "id": "db1f82b0-6f8c-4043-b846-69e041d15ee1",
   "metadata": {
    "tags": []
   },
   "outputs": [],
   "source": [
    "!ilab generate --model granite-7b-lab-Q4_K_M --num-instructions 5 "
   ]
  },
  {
   "cell_type": "code",
   "execution_count": null,
   "id": "c0ce9756-38bc-44b1-879e-23f399677c1f",
   "metadata": {},
   "outputs": [],
   "source": []
  }
 ],
 "metadata": {
  "kernelspec": {
   "display_name": "Python 3.9",
   "language": "python",
   "name": "python3"
  },
  "language_info": {
   "codemirror_mode": {
    "name": "ipython",
    "version": 3
   },
   "file_extension": ".py",
   "mimetype": "text/x-python",
   "name": "python",
   "nbconvert_exporter": "python",
   "pygments_lexer": "ipython3",
   "version": "3.9.18"
  }
 },
 "nbformat": 4,
 "nbformat_minor": 5
}
