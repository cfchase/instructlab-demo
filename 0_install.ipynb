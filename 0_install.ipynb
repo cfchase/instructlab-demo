{
 "cells": [
  {
   "cell_type": "markdown",
   "id": "210fa185-edb1-4efe-a424-3b22c44f3fbd",
   "metadata": {},
   "source": [
    "# Getting started"
   ]
  },
  {
   "cell_type": "markdown",
   "id": "c94170be-1cc6-4b64-834e-0cfa2718390d",
   "metadata": {},
   "source": [
    "## Install ilab command line interface\n",
    "\n",
    "We created a CLI tool called ilab that implements a local LLM developer experience and workflow. The ilab CLI is written in Python and works on the following architectures:\n",
    "\n",
    "- Apple M1/M2/M3 Mac\n",
    "- Linux systems\n",
    "\n",
    "We anticipate support for more operating systems in the future. The system requirements to use the command line tool are as follows:\n",
    "\n",
    "- C++ compiler\n",
    "- Python 3.9+\n",
    "- Approximately 60GB disk space (entire process) - Disk space requirements are dependent on several factors. Keep in mind that we will be generating data to feed to the model while also having the model locally on our system. For example, the model we are working with during this workshop is roughly 5gb in size.\n"
   ]
  },
  {
   "cell_type": "markdown",
   "id": "920596ec-7e12-481f-9ff1-24a321e25d54",
   "metadata": {},
   "source": [
    "## Installing ilab"
   ]
  },
  {
   "cell_type": "code",
   "execution_count": 1,
   "id": "6bff3a17-b74f-4df4-8543-a3dc63c86ad1",
   "metadata": {
    "tags": []
   },
   "outputs": [
    {
     "name": "stdout",
     "output_type": "stream",
     "text": [
      "Collecting git+https://github.com/instructlab/instructlab.git@stable\n",
      "  Cloning https://github.com/instructlab/instructlab.git (to revision stable) to /tmp/pip-req-build-axkkvj1n\n",
      "  Running command git clone --filter=blob:none --quiet https://github.com/instructlab/instructlab.git /tmp/pip-req-build-axkkvj1n\n",
      "  Running command git checkout -q 96d6f221f342c402313fabb799d9dc29407e826d\n",
      "  Resolved https://github.com/instructlab/instructlab.git to commit 96d6f221f342c402313fabb799d9dc29407e826d\n",
      "  Running command git submodule update --init --recursive -q\n",
      "  Installing build dependencies ... \u001b[?25ldone\n",
      "\u001b[?25h  Getting requirements to build wheel ... \u001b[?25ldone\n",
      "\u001b[?25h  Installing backend dependencies ... \u001b[?25ldone\n",
      "\u001b[?25h  Preparing metadata (pyproject.toml) ... \u001b[?25ldone\n",
      "\u001b[?25hRequirement already satisfied: tokenizers<0.16.0,>=0.15.2 in /opt/app-root/lib/python3.9/site-packages (from instructlab==0.14.1) (0.15.2)\n",
      "Requirement already satisfied: yamllint<1.36.0,>=1.35.1 in /opt/app-root/lib/python3.9/site-packages (from instructlab==0.14.1) (1.35.1)\n",
      "Collecting numpy<2.0.0,>=1.26.4\n",
      "  Downloading numpy-1.26.4-cp39-cp39-manylinux_2_17_x86_64.manylinux2014_x86_64.whl (18.2 MB)\n",
      "\u001b[2K     \u001b[90m━━━━━━━━━━━━━━━━━━━━━━━━━━━━━━━━━━━━━━━\u001b[0m \u001b[32m18.2/18.2 MB\u001b[0m \u001b[31m195.5 MB/s\u001b[0m eta \u001b[36m0:00:00\u001b[0ma \u001b[36m0:00:01\u001b[0m\n",
      "\u001b[?25hRequirement already satisfied: prompt-toolkit<4.0.0,>=3.0.38 in /opt/app-root/lib/python3.9/site-packages (from instructlab==0.14.1) (3.0.43)\n",
      "Requirement already satisfied: httpx in /opt/app-root/lib/python3.9/site-packages (from instructlab==0.14.1) (0.27.0)\n",
      "Requirement already satisfied: pydantic-yaml in /opt/app-root/lib/python3.9/site-packages (from instructlab==0.14.1) (1.3.0)\n",
      "Requirement already satisfied: wandb<0.17.0,>=0.16.4 in /opt/app-root/lib/python3.9/site-packages (from instructlab==0.14.1) (0.16.6)\n",
      "Requirement already satisfied: tqdm<5.0.0,>=4.66.2 in /opt/app-root/lib/python3.9/site-packages (from instructlab==0.14.1) (4.66.2)\n",
      "Requirement already satisfied: GitPython<4.0.0,>=3.1.42 in /opt/app-root/lib/python3.9/site-packages (from instructlab==0.14.1) (3.1.42)\n",
      "Requirement already satisfied: transformers<=4.38.2,>=4.30.0 in /opt/app-root/lib/python3.9/site-packages (from instructlab==0.14.1) (4.38.2)\n",
      "Requirement already satisfied: PyYAML<7.0.0,>=6.0.1 in /opt/app-root/lib/python3.9/site-packages (from instructlab==0.14.1) (6.0.1)\n",
      "Requirement already satisfied: gguf<0.7.0,>=0.6.0 in /opt/app-root/lib/python3.9/site-packages (from instructlab==0.14.1) (0.6.0)\n",
      "Requirement already satisfied: trl<0.8.0,>=0.7.11 in /opt/app-root/lib/python3.9/site-packages (from instructlab==0.14.1) (0.7.11)\n",
      "Requirement already satisfied: peft<0.10.0,>=0.9.0 in /opt/app-root/lib/python3.9/site-packages (from instructlab==0.14.1) (0.9.0)\n",
      "Requirement already satisfied: rouge-score<0.2.0,>=0.1.2 in /opt/app-root/lib/python3.9/site-packages (from instructlab==0.14.1) (0.1.2)\n",
      "Collecting sentencepiece<0.3.0,>=0.2.0\n",
      "  Downloading sentencepiece-0.2.0-cp39-cp39-manylinux_2_17_x86_64.manylinux2014_x86_64.whl (1.3 MB)\n",
      "\u001b[2K     \u001b[90m━━━━━━━━━━━━━━━━━━━━━━━━━━━━━━━━━━━━━━━━\u001b[0m \u001b[32m1.3/1.3 MB\u001b[0m \u001b[31m355.0 MB/s\u001b[0m eta \u001b[36m0:00:00\u001b[0m\n",
      "\u001b[?25hRequirement already satisfied: pydantic in /opt/app-root/lib/python3.9/site-packages (from instructlab==0.14.1) (2.7.1)\n",
      "Requirement already satisfied: langchain-text-splitters in /opt/app-root/lib/python3.9/site-packages (from instructlab==0.14.1) (0.0.1)\n",
      "Requirement already satisfied: datasets<3.0.0,>=2.18.0 in /opt/app-root/lib/python3.9/site-packages (from instructlab==0.14.1) (2.19.0)\n",
      "Requirement already satisfied: jsonschema<5.0.0,>=4.21.1 in /opt/app-root/lib/python3.9/site-packages (from instructlab==0.14.1) (4.21.1)\n",
      "Requirement already satisfied: toml<0.11.0,>=0.10.2 in /opt/app-root/lib/python3.9/site-packages (from instructlab==0.14.1) (0.10.2)\n",
      "Requirement already satisfied: llama-cpp-python[server]==0.2.55 in /opt/app-root/lib/python3.9/site-packages (from instructlab==0.14.1) (0.2.55)\n",
      "Requirement already satisfied: rich<14.0.0,>=13.3.1 in /opt/app-root/lib/python3.9/site-packages (from instructlab==0.14.1) (13.7.1)\n",
      "Requirement already satisfied: click-didyoumean<0.4.0,>=0.3.0 in /opt/app-root/lib/python3.9/site-packages (from instructlab==0.14.1) (0.3.1)\n",
      "Requirement already satisfied: click<9.0.0,>=8.1.7 in /opt/app-root/lib/python3.9/site-packages (from instructlab==0.14.1) (8.1.7)\n",
      "Collecting torch<3.0.0,>=2.2.1\n",
      "  Downloading torch-2.3.0-cp39-cp39-manylinux1_x86_64.whl (779.1 MB)\n",
      "\u001b[2K     \u001b[90m━━━━━━━━━━━━━━━━━━━━━━━━━━━━━━━━━━━━━\u001b[0m \u001b[32m779.1/779.1 MB\u001b[0m \u001b[31m191.9 MB/s\u001b[0m eta \u001b[36m0:00:00\u001b[0m00:01\u001b[0m00:01\u001b[0m\n",
      "\u001b[?25hRequirement already satisfied: openai<2.0.0,>=1.13.3 in /opt/app-root/lib/python3.9/site-packages (from instructlab==0.14.1) (1.25.0)\n",
      "Requirement already satisfied: typing-extensions>=4.5.0 in /opt/app-root/lib/python3.9/site-packages (from llama-cpp-python[server]==0.2.55->instructlab==0.14.1) (4.10.0)\n",
      "Requirement already satisfied: diskcache>=5.6.1 in /opt/app-root/lib/python3.9/site-packages (from llama-cpp-python[server]==0.2.55->instructlab==0.14.1) (5.6.3)\n",
      "Requirement already satisfied: jinja2>=2.11.3 in /opt/app-root/lib/python3.9/site-packages (from llama-cpp-python[server]==0.2.55->instructlab==0.14.1) (3.1.3)\n",
      "Requirement already satisfied: fastapi>=0.100.0 in /opt/app-root/lib/python3.9/site-packages (from llama-cpp-python[server]==0.2.55->instructlab==0.14.1) (0.110.3)\n",
      "Requirement already satisfied: pydantic-settings>=2.0.1 in /opt/app-root/lib/python3.9/site-packages (from llama-cpp-python[server]==0.2.55->instructlab==0.14.1) (2.2.1)\n",
      "Requirement already satisfied: starlette-context<0.4,>=0.3.6 in /opt/app-root/lib/python3.9/site-packages (from llama-cpp-python[server]==0.2.55->instructlab==0.14.1) (0.3.6)\n",
      "Requirement already satisfied: sse-starlette>=1.6.1 in /opt/app-root/lib/python3.9/site-packages (from llama-cpp-python[server]==0.2.55->instructlab==0.14.1) (2.1.0)\n",
      "Requirement already satisfied: uvicorn>=0.22.0 in /opt/app-root/lib/python3.9/site-packages (from llama-cpp-python[server]==0.2.55->instructlab==0.14.1) (0.29.0)\n",
      "Requirement already satisfied: pyarrow-hotfix in /opt/app-root/lib/python3.9/site-packages (from datasets<3.0.0,>=2.18.0->instructlab==0.14.1) (0.6)\n",
      "Requirement already satisfied: dill<0.3.9,>=0.3.0 in /opt/app-root/lib/python3.9/site-packages (from datasets<3.0.0,>=2.18.0->instructlab==0.14.1) (0.3.8)\n",
      "Requirement already satisfied: xxhash in /opt/app-root/lib/python3.9/site-packages (from datasets<3.0.0,>=2.18.0->instructlab==0.14.1) (3.4.1)\n",
      "Requirement already satisfied: requests>=2.19.0 in /opt/app-root/lib/python3.9/site-packages (from datasets<3.0.0,>=2.18.0->instructlab==0.14.1) (2.31.0)\n",
      "Requirement already satisfied: packaging in /opt/app-root/lib/python3.9/site-packages (from datasets<3.0.0,>=2.18.0->instructlab==0.14.1) (23.2)\n",
      "Requirement already satisfied: filelock in /opt/app-root/lib/python3.9/site-packages (from datasets<3.0.0,>=2.18.0->instructlab==0.14.1) (3.14.0)\n",
      "Requirement already satisfied: multiprocess in /opt/app-root/lib/python3.9/site-packages (from datasets<3.0.0,>=2.18.0->instructlab==0.14.1) (0.70.16)\n",
      "Requirement already satisfied: pyarrow>=12.0.0 in /opt/app-root/lib/python3.9/site-packages (from datasets<3.0.0,>=2.18.0->instructlab==0.14.1) (16.0.0)\n",
      "Requirement already satisfied: fsspec[http]<=2024.3.1,>=2023.1.0 in /opt/app-root/lib/python3.9/site-packages (from datasets<3.0.0,>=2.18.0->instructlab==0.14.1) (2024.3.1)\n",
      "Requirement already satisfied: pandas in /opt/app-root/lib/python3.9/site-packages (from datasets<3.0.0,>=2.18.0->instructlab==0.14.1) (2.2.2)\n",
      "Requirement already satisfied: aiohttp in /opt/app-root/lib/python3.9/site-packages (from datasets<3.0.0,>=2.18.0->instructlab==0.14.1) (3.9.3)\n",
      "Requirement already satisfied: huggingface-hub>=0.21.2 in /opt/app-root/lib/python3.9/site-packages (from datasets<3.0.0,>=2.18.0->instructlab==0.14.1) (0.22.2)\n",
      "Requirement already satisfied: gitdb<5,>=4.0.1 in /opt/app-root/lib/python3.9/site-packages (from GitPython<4.0.0,>=3.1.42->instructlab==0.14.1) (4.0.11)\n",
      "Requirement already satisfied: jsonschema-specifications>=2023.03.6 in /opt/app-root/lib/python3.9/site-packages (from jsonschema<5.0.0,>=4.21.1->instructlab==0.14.1) (2023.12.1)\n",
      "Requirement already satisfied: rpds-py>=0.7.1 in /opt/app-root/lib/python3.9/site-packages (from jsonschema<5.0.0,>=4.21.1->instructlab==0.14.1) (0.18.0)\n",
      "Requirement already satisfied: attrs>=22.2.0 in /opt/app-root/lib/python3.9/site-packages (from jsonschema<5.0.0,>=4.21.1->instructlab==0.14.1) (23.2.0)\n",
      "Requirement already satisfied: referencing>=0.28.4 in /opt/app-root/lib/python3.9/site-packages (from jsonschema<5.0.0,>=4.21.1->instructlab==0.14.1) (0.33.0)\n",
      "Requirement already satisfied: distro<2,>=1.7.0 in /opt/app-root/lib/python3.9/site-packages (from openai<2.0.0,>=1.13.3->instructlab==0.14.1) (1.9.0)\n",
      "Requirement already satisfied: sniffio in /opt/app-root/lib/python3.9/site-packages (from openai<2.0.0,>=1.13.3->instructlab==0.14.1) (1.3.1)\n",
      "Requirement already satisfied: anyio<5,>=3.5.0 in /opt/app-root/lib/python3.9/site-packages (from openai<2.0.0,>=1.13.3->instructlab==0.14.1) (4.3.0)\n",
      "Requirement already satisfied: httpcore==1.* in /opt/app-root/lib/python3.9/site-packages (from httpx->instructlab==0.14.1) (1.0.5)\n",
      "Requirement already satisfied: idna in /opt/app-root/lib/python3.9/site-packages (from httpx->instructlab==0.14.1) (3.6)\n",
      "Requirement already satisfied: certifi in /opt/app-root/lib/python3.9/site-packages (from httpx->instructlab==0.14.1) (2024.2.2)\n",
      "Requirement already satisfied: h11<0.15,>=0.13 in /opt/app-root/lib/python3.9/site-packages (from httpcore==1.*->httpx->instructlab==0.14.1) (0.14.0)\n",
      "Requirement already satisfied: accelerate>=0.21.0 in /opt/app-root/lib/python3.9/site-packages (from peft<0.10.0,>=0.9.0->instructlab==0.14.1) (0.29.3)\n",
      "Requirement already satisfied: safetensors in /opt/app-root/lib/python3.9/site-packages (from peft<0.10.0,>=0.9.0->instructlab==0.14.1) (0.4.3)\n",
      "Requirement already satisfied: psutil in /opt/app-root/lib/python3.9/site-packages (from peft<0.10.0,>=0.9.0->instructlab==0.14.1) (5.9.8)\n",
      "Requirement already satisfied: wcwidth in /opt/app-root/lib/python3.9/site-packages (from prompt-toolkit<4.0.0,>=3.0.38->instructlab==0.14.1) (0.2.13)\n",
      "Requirement already satisfied: pydantic-core==2.18.2 in /opt/app-root/lib/python3.9/site-packages (from pydantic->instructlab==0.14.1) (2.18.2)\n",
      "Requirement already satisfied: annotated-types>=0.4.0 in /opt/app-root/lib/python3.9/site-packages (from pydantic->instructlab==0.14.1) (0.6.0)\n",
      "Requirement already satisfied: markdown-it-py>=2.2.0 in /opt/app-root/lib/python3.9/site-packages (from rich<14.0.0,>=13.3.1->instructlab==0.14.1) (3.0.0)\n",
      "Requirement already satisfied: pygments<3.0.0,>=2.13.0 in /opt/app-root/lib/python3.9/site-packages (from rich<14.0.0,>=13.3.1->instructlab==0.14.1) (2.17.2)\n",
      "Requirement already satisfied: nltk in /opt/app-root/lib/python3.9/site-packages (from rouge-score<0.2.0,>=0.1.2->instructlab==0.14.1) (3.8.1)\n",
      "Requirement already satisfied: six>=1.14.0 in /opt/app-root/lib/python3.9/site-packages (from rouge-score<0.2.0,>=0.1.2->instructlab==0.14.1) (1.16.0)\n",
      "Requirement already satisfied: absl-py in /opt/app-root/lib/python3.9/site-packages (from rouge-score<0.2.0,>=0.1.2->instructlab==0.14.1) (2.1.0)\n",
      "Requirement already satisfied: nvidia-cuda-cupti-cu12==12.1.105 in /opt/app-root/lib/python3.9/site-packages (from torch<3.0.0,>=2.2.1->instructlab==0.14.1) (12.1.105)\n",
      "Requirement already satisfied: sympy in /opt/app-root/lib/python3.9/site-packages (from torch<3.0.0,>=2.2.1->instructlab==0.14.1) (1.12)\n",
      "Requirement already satisfied: nvidia-cudnn-cu12==8.9.2.26 in /opt/app-root/lib/python3.9/site-packages (from torch<3.0.0,>=2.2.1->instructlab==0.14.1) (8.9.2.26)\n",
      "Requirement already satisfied: nvidia-cusparse-cu12==12.1.0.106 in /opt/app-root/lib/python3.9/site-packages (from torch<3.0.0,>=2.2.1->instructlab==0.14.1) (12.1.0.106)\n",
      "Requirement already satisfied: nvidia-nvtx-cu12==12.1.105 in /opt/app-root/lib/python3.9/site-packages (from torch<3.0.0,>=2.2.1->instructlab==0.14.1) (12.1.105)\n",
      "Requirement already satisfied: nvidia-cuda-runtime-cu12==12.1.105 in /opt/app-root/lib/python3.9/site-packages (from torch<3.0.0,>=2.2.1->instructlab==0.14.1) (12.1.105)\n",
      "Requirement already satisfied: nvidia-curand-cu12==10.3.2.106 in /opt/app-root/lib/python3.9/site-packages (from torch<3.0.0,>=2.2.1->instructlab==0.14.1) (10.3.2.106)\n",
      "Collecting nvidia-nccl-cu12==2.20.5\n",
      "  Downloading nvidia_nccl_cu12-2.20.5-py3-none-manylinux2014_x86_64.whl (176.2 MB)\n",
      "\u001b[2K     \u001b[90m━━━━━━━━━━━━━━━━━━━━━━━━━━━━━━━━━━━━━\u001b[0m \u001b[32m176.2/176.2 MB\u001b[0m \u001b[31m299.2 MB/s\u001b[0m eta \u001b[36m0:00:00\u001b[0m00:01\u001b[0m00:01\u001b[0m\n",
      "\u001b[?25hRequirement already satisfied: nvidia-cublas-cu12==12.1.3.1 in /opt/app-root/lib/python3.9/site-packages (from torch<3.0.0,>=2.2.1->instructlab==0.14.1) (12.1.3.1)\n",
      "Requirement already satisfied: nvidia-cufft-cu12==11.0.2.54 in /opt/app-root/lib/python3.9/site-packages (from torch<3.0.0,>=2.2.1->instructlab==0.14.1) (11.0.2.54)\n",
      "Collecting triton==2.3.0\n",
      "  Downloading triton-2.3.0-cp39-cp39-manylinux_2_17_x86_64.manylinux2014_x86_64.whl (168.1 MB)\n",
      "\u001b[2K     \u001b[90m━━━━━━━━━━━━━━━━━━━━━━━━━━━━━━━━━━━━━\u001b[0m \u001b[32m168.1/168.1 MB\u001b[0m \u001b[31m155.1 MB/s\u001b[0m eta \u001b[36m0:00:00\u001b[0ma \u001b[36m0:00:01\u001b[0m\n",
      "\u001b[?25hRequirement already satisfied: nvidia-cusolver-cu12==11.4.5.107 in /opt/app-root/lib/python3.9/site-packages (from torch<3.0.0,>=2.2.1->instructlab==0.14.1) (11.4.5.107)\n",
      "Requirement already satisfied: networkx in /opt/app-root/lib/python3.9/site-packages (from torch<3.0.0,>=2.2.1->instructlab==0.14.1) (3.2.1)\n",
      "Requirement already satisfied: nvidia-cuda-nvrtc-cu12==12.1.105 in /opt/app-root/lib/python3.9/site-packages (from torch<3.0.0,>=2.2.1->instructlab==0.14.1) (12.1.105)\n",
      "Requirement already satisfied: nvidia-nvjitlink-cu12 in /opt/app-root/lib/python3.9/site-packages (from nvidia-cusolver-cu12==11.4.5.107->torch<3.0.0,>=2.2.1->instructlab==0.14.1) (12.4.127)\n",
      "Requirement already satisfied: regex!=2019.12.17 in /opt/app-root/lib/python3.9/site-packages (from transformers<=4.38.2,>=4.30.0->instructlab==0.14.1) (2024.4.28)\n",
      "Requirement already satisfied: tyro>=0.5.11 in /opt/app-root/lib/python3.9/site-packages (from trl<0.8.0,>=0.7.11->instructlab==0.14.1) (0.8.3)\n",
      "Requirement already satisfied: docker-pycreds>=0.4.0 in /opt/app-root/lib/python3.9/site-packages (from wandb<0.17.0,>=0.16.4->instructlab==0.14.1) (0.4.0)\n",
      "Requirement already satisfied: sentry-sdk>=1.0.0 in /opt/app-root/lib/python3.9/site-packages (from wandb<0.17.0,>=0.16.4->instructlab==0.14.1) (2.0.1)\n",
      "Requirement already satisfied: appdirs>=1.4.3 in /opt/app-root/lib/python3.9/site-packages (from wandb<0.17.0,>=0.16.4->instructlab==0.14.1) (1.4.4)\n",
      "Requirement already satisfied: setuptools in /opt/app-root/lib/python3.9/site-packages (from wandb<0.17.0,>=0.16.4->instructlab==0.14.1) (68.1.2)\n",
      "Requirement already satisfied: protobuf!=4.21.0,<5,>=3.15.0 in /opt/app-root/lib/python3.9/site-packages (from wandb<0.17.0,>=0.16.4->instructlab==0.14.1) (4.25.3)\n",
      "Requirement already satisfied: setproctitle in /opt/app-root/lib/python3.9/site-packages (from wandb<0.17.0,>=0.16.4->instructlab==0.14.1) (1.3.3)\n",
      "Requirement already satisfied: pathspec>=0.5.3 in /opt/app-root/lib/python3.9/site-packages (from yamllint<1.36.0,>=1.35.1->instructlab==0.14.1) (0.12.1)\n",
      "Requirement already satisfied: langchain-core<0.2.0,>=0.1.28 in /opt/app-root/lib/python3.9/site-packages (from langchain-text-splitters->instructlab==0.14.1) (0.1.48)\n",
      "Requirement already satisfied: ruamel.yaml<0.19.0,>=0.16.0 in /opt/app-root/lib/python3.9/site-packages (from pydantic-yaml->instructlab==0.14.1) (0.18.6)\n",
      "Requirement already satisfied: importlib-metadata in /opt/app-root/lib/python3.9/site-packages (from pydantic-yaml->instructlab==0.14.1) (7.0.1)\n",
      "Requirement already satisfied: exceptiongroup>=1.0.2 in /opt/app-root/lib/python3.9/site-packages (from anyio<5,>=3.5.0->openai<2.0.0,>=1.13.3->instructlab==0.14.1) (1.2.0)\n",
      "Requirement already satisfied: starlette<0.38.0,>=0.37.2 in /opt/app-root/lib/python3.9/site-packages (from fastapi>=0.100.0->llama-cpp-python[server]==0.2.55->instructlab==0.14.1) (0.37.2)\n",
      "Requirement already satisfied: multidict<7.0,>=4.5 in /opt/app-root/lib/python3.9/site-packages (from aiohttp->datasets<3.0.0,>=2.18.0->instructlab==0.14.1) (6.0.5)\n",
      "Requirement already satisfied: aiosignal>=1.1.2 in /opt/app-root/lib/python3.9/site-packages (from aiohttp->datasets<3.0.0,>=2.18.0->instructlab==0.14.1) (1.3.1)\n",
      "Requirement already satisfied: yarl<2.0,>=1.0 in /opt/app-root/lib/python3.9/site-packages (from aiohttp->datasets<3.0.0,>=2.18.0->instructlab==0.14.1) (1.9.4)\n",
      "Requirement already satisfied: frozenlist>=1.1.1 in /opt/app-root/lib/python3.9/site-packages (from aiohttp->datasets<3.0.0,>=2.18.0->instructlab==0.14.1) (1.4.1)\n",
      "Requirement already satisfied: async-timeout<5.0,>=4.0 in /opt/app-root/lib/python3.9/site-packages (from aiohttp->datasets<3.0.0,>=2.18.0->instructlab==0.14.1) (4.0.3)\n",
      "Requirement already satisfied: smmap<6,>=3.0.1 in /opt/app-root/lib/python3.9/site-packages (from gitdb<5,>=4.0.1->GitPython<4.0.0,>=3.1.42->instructlab==0.14.1) (5.0.1)\n",
      "Requirement already satisfied: MarkupSafe>=2.0 in /opt/app-root/lib/python3.9/site-packages (from jinja2>=2.11.3->llama-cpp-python[server]==0.2.55->instructlab==0.14.1) (2.1.5)\n",
      "Requirement already satisfied: langsmith<0.2.0,>=0.1.0 in /opt/app-root/lib/python3.9/site-packages (from langchain-core<0.2.0,>=0.1.28->langchain-text-splitters->instructlab==0.14.1) (0.1.52)\n",
      "Requirement already satisfied: tenacity<9.0.0,>=8.1.0 in /opt/app-root/lib/python3.9/site-packages (from langchain-core<0.2.0,>=0.1.28->langchain-text-splitters->instructlab==0.14.1) (8.2.3)\n",
      "Requirement already satisfied: jsonpatch<2.0,>=1.33 in /opt/app-root/lib/python3.9/site-packages (from langchain-core<0.2.0,>=0.1.28->langchain-text-splitters->instructlab==0.14.1) (1.33)\n",
      "Requirement already satisfied: mdurl~=0.1 in /opt/app-root/lib/python3.9/site-packages (from markdown-it-py>=2.2.0->rich<14.0.0,>=13.3.1->instructlab==0.14.1) (0.1.2)\n",
      "Requirement already satisfied: python-dotenv>=0.21.0 in /opt/app-root/lib/python3.9/site-packages (from pydantic-settings>=2.0.1->llama-cpp-python[server]==0.2.55->instructlab==0.14.1) (1.0.1)\n",
      "Requirement already satisfied: charset-normalizer<4,>=2 in /opt/app-root/lib/python3.9/site-packages (from requests>=2.19.0->datasets<3.0.0,>=2.18.0->instructlab==0.14.1) (3.3.2)\n",
      "Requirement already satisfied: urllib3<3,>=1.21.1 in /opt/app-root/lib/python3.9/site-packages (from requests>=2.19.0->datasets<3.0.0,>=2.18.0->instructlab==0.14.1) (2.2.1)\n",
      "Requirement already satisfied: ruamel.yaml.clib>=0.2.7 in /opt/app-root/lib/python3.9/site-packages (from ruamel.yaml<0.19.0,>=0.16.0->pydantic-yaml->instructlab==0.14.1) (0.2.8)\n",
      "Requirement already satisfied: docstring-parser>=0.14.1 in /opt/app-root/lib/python3.9/site-packages (from tyro>=0.5.11->trl<0.8.0,>=0.7.11->instructlab==0.14.1) (0.16)\n",
      "Requirement already satisfied: shtab>=1.5.6 in /opt/app-root/lib/python3.9/site-packages (from tyro>=0.5.11->trl<0.8.0,>=0.7.11->instructlab==0.14.1) (1.7.1)\n",
      "Requirement already satisfied: eval-type-backport>=0.1.3 in /opt/app-root/lib/python3.9/site-packages (from tyro>=0.5.11->trl<0.8.0,>=0.7.11->instructlab==0.14.1) (0.2.0)\n",
      "Requirement already satisfied: zipp>=0.5 in /opt/app-root/lib/python3.9/site-packages (from importlib-metadata->pydantic-yaml->instructlab==0.14.1) (3.17.0)\n",
      "Requirement already satisfied: joblib in /opt/app-root/lib/python3.9/site-packages (from nltk->rouge-score<0.2.0,>=0.1.2->instructlab==0.14.1) (1.4.0)\n",
      "Requirement already satisfied: tzdata>=2022.7 in /opt/app-root/lib/python3.9/site-packages (from pandas->datasets<3.0.0,>=2.18.0->instructlab==0.14.1) (2024.1)\n",
      "Requirement already satisfied: python-dateutil>=2.8.2 in /opt/app-root/lib/python3.9/site-packages (from pandas->datasets<3.0.0,>=2.18.0->instructlab==0.14.1) (2.8.2)\n",
      "Requirement already satisfied: pytz>=2020.1 in /opt/app-root/lib/python3.9/site-packages (from pandas->datasets<3.0.0,>=2.18.0->instructlab==0.14.1) (2024.1)\n",
      "Requirement already satisfied: mpmath>=0.19 in /opt/app-root/lib/python3.9/site-packages (from sympy->torch<3.0.0,>=2.2.1->instructlab==0.14.1) (1.3.0)\n",
      "Requirement already satisfied: jsonpointer>=1.9 in /opt/app-root/lib/python3.9/site-packages (from jsonpatch<2.0,>=1.33->langchain-core<0.2.0,>=0.1.28->langchain-text-splitters->instructlab==0.14.1) (2.4)\n",
      "Requirement already satisfied: orjson<4.0.0,>=3.9.14 in /opt/app-root/lib/python3.9/site-packages (from langsmith<0.2.0,>=0.1.0->langchain-core<0.2.0,>=0.1.28->langchain-text-splitters->instructlab==0.14.1) (3.10.2)\n",
      "Installing collected packages: sentencepiece, triton, nvidia-nccl-cu12, numpy, torch\n",
      "  Attempting uninstall: sentencepiece\n",
      "    Found existing installation: sentencepiece 0.1.99\n",
      "    Uninstalling sentencepiece-0.1.99:\n",
      "      Successfully uninstalled sentencepiece-0.1.99\n",
      "  Attempting uninstall: triton\n",
      "    Found existing installation: triton 2.1.0\n",
      "    Uninstalling triton-2.1.0:\n",
      "      Successfully uninstalled triton-2.1.0\n",
      "  Attempting uninstall: nvidia-nccl-cu12\n",
      "    Found existing installation: nvidia-nccl-cu12 2.18.1\n",
      "    Uninstalling nvidia-nccl-cu12-2.18.1:\n",
      "      Successfully uninstalled nvidia-nccl-cu12-2.18.1\n",
      "  Attempting uninstall: numpy\n",
      "    Found existing installation: numpy 1.24.4\n",
      "    Uninstalling numpy-1.24.4:\n",
      "      Successfully uninstalled numpy-1.24.4\n",
      "  Attempting uninstall: torch\n",
      "    Found existing installation: torch 2.1.2\n",
      "    Uninstalling torch-2.1.2:\n",
      "      Successfully uninstalled torch-2.1.2\n",
      "Successfully installed numpy-1.26.4 nvidia-nccl-cu12-2.20.5 sentencepiece-0.2.0 torch-2.3.0 triton-2.3.0\n",
      "\n",
      "\u001b[1m[\u001b[0m\u001b[34;49mnotice\u001b[0m\u001b[1;39;49m]\u001b[0m\u001b[39;49m A new release of pip available: \u001b[0m\u001b[31;49m22.2.2\u001b[0m\u001b[39;49m -> \u001b[0m\u001b[32;49m24.0\u001b[0m\n",
      "\u001b[1m[\u001b[0m\u001b[34;49mnotice\u001b[0m\u001b[1;39;49m]\u001b[0m\u001b[39;49m To update, run: \u001b[0m\u001b[32;49mpip install --upgrade pip\u001b[0m\n"
     ]
    }
   ],
   "source": [
    "!pip install git+https://github.com/instructlab/instructlab.git@stable"
   ]
  },
  {
   "cell_type": "markdown",
   "id": "f52a7568-768f-445a-92c1-72bf7cd552ed",
   "metadata": {},
   "source": [
    "From your venv environment, verify ilab is installed correctly by running the ilab command."
   ]
  },
  {
   "cell_type": "code",
   "execution_count": 2,
   "id": "8da5eb5e-be89-4cca-a207-38553f9e97b9",
   "metadata": {
    "tags": []
   },
   "outputs": [
    {
     "name": "stdout",
     "output_type": "stream",
     "text": [
      "Usage: ilab [OPTIONS] COMMAND [ARGS]...\n",
      "\n",
      "  CLI for interacting with InstructLab.\n",
      "\n",
      "  If this is your first time running InstructLab, it's best to start with\n",
      "  `ilab init` to create the environment.\n",
      "\n",
      "Options:\n",
      "  --config PATH  Path to a configuration file.  [default: config.yaml]\n",
      "  --version      Show the version and exit.\n",
      "  --help         Show this message and exit.\n",
      "\n",
      "Commands:\n",
      "  chat      Run a chat using the modified model\n",
      "  check     (Deprecated) Check that taxonomy is valid\n",
      "  convert   Converts model to GGUF\n",
      "  diff      Lists taxonomy files that have changed since <taxonomy-base>...\n",
      "  download  Download the model(s) to train\n",
      "  generate  Generates synthetic data to enhance your example data\n",
      "  init      Initializes environment for InstructLab\n",
      "  list      (Deprecated) Lists taxonomy files that have changed since\n",
      "            <taxonomy-base>.\n",
      "  serve     Start a local server\n",
      "  test      Runs basic test to ensure model correctness\n",
      "  train     Takes synthetic data generated locally with `ilab generate`...\n"
     ]
    }
   ],
   "source": [
    "!ilab"
   ]
  },
  {
   "cell_type": "markdown",
   "id": "9a0322e9-a4f2-4d74-aca7-f515d2cecb5a",
   "metadata": {
    "tags": []
   },
   "source": [
    "## Initialize ilab\n",
    "\n",
    "Now that we know that the command-line interface (ilab) is working correctly, the next thing we need to do is initialize the local environment so that we can begin working with the model. This is accomplished by issuing a simple init command."
   ]
  },
  {
   "cell_type": "code",
   "execution_count": 3,
   "id": "25229d66-d765-4fb6-bd93-588031999539",
   "metadata": {
    "tags": []
   },
   "outputs": [
    {
     "name": "stdout",
     "output_type": "stream",
     "text": [
      "Usage: ilab init [OPTIONS]\n",
      "\n",
      "  Initializes environment for InstructLab\n",
      "\n",
      "Options:\n",
      "  --interactive / --non-interactive\n",
      "                                  Initialize the environment assuming\n",
      "                                  defaults.  [default: interactive]\n",
      "  --model-path PATH               Path to the model used during generation.\n",
      "                                  [default:\n",
      "                                  models/merlinite-7b-lab-Q4_K_M.gguf]\n",
      "  --taxonomy-base TEXT            Base git-ref to use when listing/generating\n",
      "                                  new taxonomy.  [default: origin/main]\n",
      "  --taxonomy-path PATH            Path to\n",
      "                                  https://github.com/instructlab/taxonomy.git\n",
      "                                  clone.  [default: taxonomy]\n",
      "  --repository TEXT               Taxonomy repository location.  [default:\n",
      "                                  https://github.com/instructlab/taxonomy.git]\n",
      "  --min-taxonomy                  Shallow clone the taxonomy repository with\n",
      "                                  minimum size. Please do not use this option\n",
      "                                  if you are planning to contribute back using\n",
      "                                  the same taxonomy repository.\n",
      "  --help                          Show this message and exit.\n"
     ]
    }
   ],
   "source": [
    "!ilab init --help"
   ]
  },
  {
   "cell_type": "markdown",
   "id": "12e30a99-d615-45f6-962c-a4c115734d4a",
   "metadata": {},
   "source": [
    "Step 1: Initialize ilab by running the following command:\n",
    "```\n",
    "!ilab init --non-interactive \n",
    "```"
   ]
  },
  {
   "cell_type": "code",
   "execution_count": 4,
   "id": "75ac1c59-9320-45df-bf4a-7bbbf0226de4",
   "metadata": {
    "tags": []
   },
   "outputs": [
    {
     "name": "stdout",
     "output_type": "stream",
     "text": [
      "Generating `config.yaml` in the current directory...\n",
      "Initialization completed successfully, you're ready to start using `ilab`. Enjoy!\n"
     ]
    }
   ],
   "source": [
    "!ilab init --non-interactive --model-path ./models/granite-7b-lab-Q4_K_M.gguf"
   ]
  },
  {
   "cell_type": "code",
   "execution_count": 5,
   "id": "336704d5-0f6a-433d-9e42-61ba67ef46f2",
   "metadata": {
    "tags": []
   },
   "outputs": [
    {
     "name": "stdout",
     "output_type": "stream",
     "text": [
      "chat:\n",
      "  context: default\n",
      "  greedy_mode: false\n",
      "  logs_dir: data/chatlogs\n",
      "  model: granite-7b-lab-Q4_K_M\n",
      "  session: null\n",
      "  vi_mode: false\n",
      "  visible_overflow: true\n",
      "general:\n",
      "  log_level: INFO\n",
      "generate:\n",
      "  chunk_word_count: 1000\n",
      "  model: granite-7b-lab-Q4_K_M\n",
      "  num_cpus: 10\n",
      "  num_instructions: 100\n",
      "  output_dir: generated\n",
      "  prompt_file: prompt.txt\n",
      "  seed_file: seed_tasks.json\n",
      "  taxonomy_base: origin/main\n",
      "  taxonomy_path: taxonomy\n",
      "serve:\n",
      "  gpu_layers: -1\n",
      "  host_port: 127.0.0.1:8000\n",
      "  max_ctx_size: 4096\n",
      "  model_path: ./models/granite-7b-lab-Q4_K_M.gguf\n"
     ]
    }
   ],
   "source": [
    "!cat config.yaml"
   ]
  },
  {
   "cell_type": "markdown",
   "id": "6a1c15c4-2701-4466-bb1d-efc4a85fd2fb",
   "metadata": {},
   "source": [
    "## Download the model\n",
    "\n",
    "Step 1: Run the `ilab download` command.\n",
    "\n",
    "The ilab download command downloads a model from the HuggingFace instructlab organization we will use."
   ]
  },
  {
   "cell_type": "code",
   "execution_count": 6,
   "id": "0b74c393-9854-4a3f-9af4-b285373b09b4",
   "metadata": {},
   "outputs": [
    {
     "name": "stdout",
     "output_type": "stream",
     "text": [
      "Usage: ilab download [OPTIONS]\n",
      "\n",
      "  Download the model(s) to train\n",
      "\n",
      "Options:\n",
      "  --repository TEXT  Hugging Face repository of the model to download.\n",
      "                     [default: instructlab/merlinite-7b-lab-GGUF]\n",
      "  --release TEXT     The git revision of the model to download - e.g. a\n",
      "                     branch, tag, or commit hash.  [default: main]\n",
      "  --filename TEXT    Name of the model file to download from the Hugging Face\n",
      "                     repository.  [default: merlinite-7b-lab-Q4_K_M.gguf]\n",
      "  --model-dir TEXT   The local directory to download the model files into.\n",
      "                     [default: models]\n",
      "  --hf-token TEXT\n",
      "  --help             Show this message and exit.\n"
     ]
    }
   ],
   "source": [
    "!ilab download --help"
   ]
  },
  {
   "cell_type": "code",
   "execution_count": 7,
   "id": "ab0da193-a778-4ee5-b32f-180baa737033",
   "metadata": {
    "tags": []
   },
   "outputs": [
    {
     "name": "stdout",
     "output_type": "stream",
     "text": [
      "Downloading model from instructlab/granite-7b-lab-GGUF@main to models...\n"
     ]
    }
   ],
   "source": [
    "!ilab download  --repository instructlab/granite-7b-lab-GGUF --filename granite-7b-lab-Q4_K_M.gguf"
   ]
  }
 ],
 "metadata": {
  "kernelspec": {
   "display_name": "Python 3.9",
   "language": "python",
   "name": "python3"
  },
  "language_info": {
   "codemirror_mode": {
    "name": "ipython",
    "version": 3
   },
   "file_extension": ".py",
   "mimetype": "text/x-python",
   "name": "python",
   "nbconvert_exporter": "python",
   "pygments_lexer": "ipython3",
   "version": "3.9.18"
  }
 },
 "nbformat": 4,
 "nbformat_minor": 5
}
