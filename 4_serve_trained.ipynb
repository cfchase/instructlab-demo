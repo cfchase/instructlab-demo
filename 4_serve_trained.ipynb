{
 "cells": [
  {
   "cell_type": "code",
   "id": "5c07281a-85c8-47cf-a5c3-290022a1989b",
   "metadata": {
    "tags": []
   },
   "source": [
    "!ilab serve --model-path ./training_results/final/"
   ],
   "outputs": [],
   "execution_count": null
  },
  {
   "cell_type": "code",
   "id": "d7210ba2-8843-4631-9cc9-9d6a5ec537f7",
   "metadata": {},
   "source": [],
   "outputs": [],
   "execution_count": null
  }
 ],
 "metadata": {
  "kernelspec": {
   "display_name": "Python 3.9",
   "language": "python",
   "name": "python3"
  },
  "language_info": {
   "codemirror_mode": {
    "name": "ipython",
    "version": 3
   },
   "file_extension": ".py",
   "mimetype": "text/x-python",
   "name": "python",
   "nbconvert_exporter": "python",
   "pygments_lexer": "ipython3",
   "version": "3.9.18"
  }
 },
 "nbformat": 4,
 "nbformat_minor": 5
}
