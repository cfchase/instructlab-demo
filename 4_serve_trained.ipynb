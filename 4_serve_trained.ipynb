{
 "cells": [
  {
   "cell_type": "markdown",
   "id": "11b2cf15-3066-4700-b040-5a0f7ae1807b",
   "metadata": {},
   "source": [
    "# Serve the Trained Model"
   ]
  },
  {
   "cell_type": "code",
   "execution_count": null,
   "id": "d7210ba2-8843-4631-9cc9-9d6a5ec537f7",
   "metadata": {},
   "outputs": [],
   "source": [
    "!ilab serve --gpu-layers -1 --model-path custom-granite.gguf"
   ]
  },
  {
   "cell_type": "code",
   "execution_count": null,
   "id": "81b2c277-57a6-4e84-ae96-babd4edeaec5",
   "metadata": {},
   "outputs": [],
   "source": []
  }
 ],
 "metadata": {
  "kernelspec": {
   "display_name": "Python 3.9",
   "language": "python",
   "name": "python3"
  },
  "language_info": {
   "codemirror_mode": {
    "name": "ipython",
    "version": 3
   },
   "file_extension": ".py",
   "mimetype": "text/x-python",
   "name": "python",
   "nbconvert_exporter": "python",
   "pygments_lexer": "ipython3",
   "version": "3.9.18"
  }
 },
 "nbformat": 4,
 "nbformat_minor": 5
}
