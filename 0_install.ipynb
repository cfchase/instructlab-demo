{
 "cells": [
  {
   "cell_type": "code",
   "execution_count": null,
   "id": "6bff3a17-b74f-4df4-8543-a3dc63c86ad1",
   "metadata": {
    "tags": []
   },
   "outputs": [],
   "source": [
    "!pip install git+https://github.com/instructlab/instructlab.git@stable"
   ]
  },
  {
   "cell_type": "code",
   "execution_count": null,
   "id": "8da5eb5e-be89-4cca-a207-38553f9e97b9",
   "metadata": {
    "tags": []
   },
   "outputs": [],
   "source": [
    "!ilab"
   ]
  },
  {
   "cell_type": "code",
   "execution_count": null,
   "id": "75ac1c59-9320-45df-bf4a-7bbbf0226de4",
   "metadata": {
    "tags": []
   },
   "outputs": [],
   "source": [
    "!ilab init --non-interactive "
   ]
  },
  {
   "cell_type": "code",
   "execution_count": null,
   "id": "336704d5-0f6a-433d-9e42-61ba67ef46f2",
   "metadata": {
    "tags": []
   },
   "outputs": [],
   "source": [
    "!cat config.yaml"
   ]
  },
  {
   "cell_type": "code",
   "execution_count": null,
   "id": "0b74c393-9854-4a3f-9af4-b285373b09b4",
   "metadata": {},
   "outputs": [],
   "source": [
    "!ilab download --help"
   ]
  },
  {
   "cell_type": "code",
   "execution_count": null,
   "id": "ab0da193-a778-4ee5-b32f-180baa737033",
   "metadata": {
    "tags": []
   },
   "outputs": [],
   "source": [
    "!ilab download  --repository instructlab/granite-7b-lab-GGUF --filename granite-7b-lab-Q4_K_M.gguf"
   ]
  }
 ],
 "metadata": {
  "kernelspec": {
   "display_name": "Python 3.9",
   "language": "python",
   "name": "python3"
  },
  "language_info": {
   "codemirror_mode": {
    "name": "ipython",
    "version": 3
   },
   "file_extension": ".py",
   "mimetype": "text/x-python",
   "name": "python",
   "nbconvert_exporter": "python",
   "pygments_lexer": "ipython3",
   "version": "3.9.18"
  }
 },
 "nbformat": 4,
 "nbformat_minor": 5
}
