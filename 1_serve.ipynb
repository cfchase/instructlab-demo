{
 "cells": [
  {
   "cell_type": "code",
   "execution_count": null,
   "id": "c88e8764-d48b-43ee-9cf6-8e9bb1f0afdd",
   "metadata": {},
   "outputs": [],
   "source": [
    "!ilab serve --help"
   ]
  },
  {
   "cell_type": "code",
   "execution_count": null,
   "id": "5c07281a-85c8-47cf-a5c3-290022a1989b",
   "metadata": {
    "tags": []
   },
   "outputs": [],
   "source": [
    "!ilab serve --model-path ./models/granite-7b-lab-Q4_K_M.gguf"
   ]
  },
  {
   "cell_type": "code",
   "execution_count": null,
   "id": "5b3ee83f-63a0-451c-b9d2-2c33c85ab397",
   "metadata": {},
   "outputs": [],
   "source": []
  }
 ],
 "metadata": {
  "kernelspec": {
   "display_name": "Python 3.9",
   "language": "python",
   "name": "python3"
  },
  "language_info": {
   "codemirror_mode": {
    "name": "ipython",
    "version": 3
   },
   "file_extension": ".py",
   "mimetype": "text/x-python",
   "name": "python",
   "nbconvert_exporter": "python",
   "pygments_lexer": "ipython3",
   "version": "3.9.18"
  }
 },
 "nbformat": 4,
 "nbformat_minor": 5
}
