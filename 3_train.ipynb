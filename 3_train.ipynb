{
 "cells": [
  {
   "cell_type": "markdown",
   "id": "16ddbd11-e69e-40c6-9e84-41d809ab5a4f",
   "metadata": {},
   "source": [
    "# Train the model\n",
    "\n",
    "Now it’s the actual training time! This is as simple as running the `train` command."
   ]
  },
  {
   "cell_type": "code",
   "execution_count": null,
   "id": "dd24e6d9-0a30-4201-a5bc-69d82c1c6665",
   "metadata": {
    "tags": []
   },
   "outputs": [],
   "source": [
    "!ilab train --help"
   ]
  },
  {
   "cell_type": "code",
   "execution_count": null,
   "id": "d22a0186-14cc-4bdc-b6cb-f250d2fa5db0",
   "metadata": {},
   "outputs": [],
   "source": [
    "!ilab train --model-name instructlab/granite-7b-lab --iters 50 --device cuda"
   ]
  },
  {
   "cell_type": "code",
   "execution_count": null,
   "id": "47ac395c-d5b3-4c28-8289-f92d2fafd035",
   "metadata": {
    "tags": []
   },
   "outputs": [],
   "source": [
    "print(\"training complete!\")"
   ]
  },
  {
   "cell_type": "markdown",
   "id": "24a6f993-aac8-4b19-910c-0b4be478a8d3",
   "metadata": {},
   "source": [
    "## Converting the trained model"
   ]
  },
  {
   "cell_type": "code",
   "execution_count": null,
   "id": "ce8a97fd-845d-42f6-b99d-4268afb6e730",
   "metadata": {
    "tags": []
   },
   "outputs": [],
   "source": [
    "!git clone https://github.com/ggerganov/llama.cpp.git"
   ]
  },
  {
   "cell_type": "code",
   "execution_count": null,
   "id": "e0cc9307-e258-4626-9684-e7333f069f81",
   "metadata": {
    "tags": []
   },
   "outputs": [],
   "source": [
    "!pip install -r llama.cpp/requirements.txt"
   ]
  },
  {
   "cell_type": "code",
   "execution_count": null,
   "id": "47e6806f-2e75-4201-9345-b84b053d0883",
   "metadata": {
    "tags": []
   },
   "outputs": [],
   "source": [
    "!python llama.cpp/convert.py -h"
   ]
  },
  {
   "cell_type": "code",
   "execution_count": null,
   "id": "2ae42973-24fd-4edd-98c2-75af3f7aba27",
   "metadata": {
    "tags": []
   },
   "outputs": [],
   "source": [
    "!python llama.cpp/convert.py training_results/final \\\n",
    "  --outfile custom-granite.gguf \\\n",
    "  --outtype q8_0 \\\n",
    "  --pad-vocab"
   ]
  },
  {
   "cell_type": "code",
   "execution_count": null,
   "id": "637b265f-0957-49da-966e-8ad97ed28469",
   "metadata": {},
   "outputs": [],
   "source": []
  }
 ],
 "metadata": {
  "kernelspec": {
   "display_name": "Python 3.9",
   "language": "python",
   "name": "python3"
  },
  "language_info": {
   "codemirror_mode": {
    "name": "ipython",
    "version": 3
   },
   "file_extension": ".py",
   "mimetype": "text/x-python",
   "name": "python",
   "nbconvert_exporter": "python",
   "pygments_lexer": "ipython3",
   "version": "3.9.18"
  }
 },
 "nbformat": 4,
 "nbformat_minor": 5
}
